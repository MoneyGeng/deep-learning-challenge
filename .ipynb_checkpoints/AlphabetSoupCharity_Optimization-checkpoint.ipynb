{
 "cells": [
  {
   "cell_type": "markdown",
   "metadata": {
    "colab_type": "text",
    "id": "view-in-github"
   },
   "source": [
    "<a href=\"https://colab.research.google.com/github/MoneyGeng/deep-learning-challenge/blob/main/AlphabetSoupCharity_Optimization.ipynb\" target=\"_parent\"><img src=\"https://colab.research.google.com/assets/colab-badge.svg\" alt=\"Open In Colab\"/></a>"
   ]
  },
  {
   "cell_type": "markdown",
   "metadata": {
    "id": "NmzCi6EYZzkL"
   },
   "source": [
    "## Preprocessing"
   ]
  },
  {
   "cell_type": "code",
   "execution_count": 1,
   "metadata": {
    "colab": {
     "base_uri": "https://localhost:8080/",
     "height": 206
    },
    "id": "XxUk2BYGZzkM",
    "outputId": "d0dfaf82-2028-4d37-ca3b-fd21550ba05f"
   },
   "outputs": [
    {
     "data": {
      "text/html": [
       "<div>\n",
       "<style scoped>\n",
       "    .dataframe tbody tr th:only-of-type {\n",
       "        vertical-align: middle;\n",
       "    }\n",
       "\n",
       "    .dataframe tbody tr th {\n",
       "        vertical-align: top;\n",
       "    }\n",
       "\n",
       "    .dataframe thead th {\n",
       "        text-align: right;\n",
       "    }\n",
       "</style>\n",
       "<table border=\"1\" class=\"dataframe\">\n",
       "  <thead>\n",
       "    <tr style=\"text-align: right;\">\n",
       "      <th></th>\n",
       "      <th>EIN</th>\n",
       "      <th>NAME</th>\n",
       "      <th>APPLICATION_TYPE</th>\n",
       "      <th>AFFILIATION</th>\n",
       "      <th>CLASSIFICATION</th>\n",
       "      <th>USE_CASE</th>\n",
       "      <th>ORGANIZATION</th>\n",
       "      <th>STATUS</th>\n",
       "      <th>INCOME_AMT</th>\n",
       "      <th>SPECIAL_CONSIDERATIONS</th>\n",
       "      <th>ASK_AMT</th>\n",
       "      <th>IS_SUCCESSFUL</th>\n",
       "    </tr>\n",
       "  </thead>\n",
       "  <tbody>\n",
       "    <tr>\n",
       "      <th>0</th>\n",
       "      <td>10520599</td>\n",
       "      <td>BLUE KNIGHTS MOTORCYCLE CLUB</td>\n",
       "      <td>T10</td>\n",
       "      <td>Independent</td>\n",
       "      <td>C1000</td>\n",
       "      <td>ProductDev</td>\n",
       "      <td>Association</td>\n",
       "      <td>1</td>\n",
       "      <td>0</td>\n",
       "      <td>N</td>\n",
       "      <td>5000</td>\n",
       "      <td>1</td>\n",
       "    </tr>\n",
       "    <tr>\n",
       "      <th>1</th>\n",
       "      <td>10531628</td>\n",
       "      <td>AMERICAN CHESAPEAKE CLUB CHARITABLE TR</td>\n",
       "      <td>T3</td>\n",
       "      <td>Independent</td>\n",
       "      <td>C2000</td>\n",
       "      <td>Preservation</td>\n",
       "      <td>Co-operative</td>\n",
       "      <td>1</td>\n",
       "      <td>1-9999</td>\n",
       "      <td>N</td>\n",
       "      <td>108590</td>\n",
       "      <td>1</td>\n",
       "    </tr>\n",
       "    <tr>\n",
       "      <th>2</th>\n",
       "      <td>10547893</td>\n",
       "      <td>ST CLOUD PROFESSIONAL FIREFIGHTERS</td>\n",
       "      <td>T5</td>\n",
       "      <td>CompanySponsored</td>\n",
       "      <td>C3000</td>\n",
       "      <td>ProductDev</td>\n",
       "      <td>Association</td>\n",
       "      <td>1</td>\n",
       "      <td>0</td>\n",
       "      <td>N</td>\n",
       "      <td>5000</td>\n",
       "      <td>0</td>\n",
       "    </tr>\n",
       "    <tr>\n",
       "      <th>3</th>\n",
       "      <td>10553066</td>\n",
       "      <td>SOUTHSIDE ATHLETIC ASSOCIATION</td>\n",
       "      <td>T3</td>\n",
       "      <td>CompanySponsored</td>\n",
       "      <td>C2000</td>\n",
       "      <td>Preservation</td>\n",
       "      <td>Trust</td>\n",
       "      <td>1</td>\n",
       "      <td>10000-24999</td>\n",
       "      <td>N</td>\n",
       "      <td>6692</td>\n",
       "      <td>1</td>\n",
       "    </tr>\n",
       "    <tr>\n",
       "      <th>4</th>\n",
       "      <td>10556103</td>\n",
       "      <td>GENETIC RESEARCH INSTITUTE OF THE DESERT</td>\n",
       "      <td>T3</td>\n",
       "      <td>Independent</td>\n",
       "      <td>C1000</td>\n",
       "      <td>Heathcare</td>\n",
       "      <td>Trust</td>\n",
       "      <td>1</td>\n",
       "      <td>100000-499999</td>\n",
       "      <td>N</td>\n",
       "      <td>142590</td>\n",
       "      <td>1</td>\n",
       "    </tr>\n",
       "  </tbody>\n",
       "</table>\n",
       "</div>"
      ],
      "text/plain": [
       "        EIN                                      NAME APPLICATION_TYPE  \\\n",
       "0  10520599              BLUE KNIGHTS MOTORCYCLE CLUB              T10   \n",
       "1  10531628    AMERICAN CHESAPEAKE CLUB CHARITABLE TR               T3   \n",
       "2  10547893        ST CLOUD PROFESSIONAL FIREFIGHTERS               T5   \n",
       "3  10553066            SOUTHSIDE ATHLETIC ASSOCIATION               T3   \n",
       "4  10556103  GENETIC RESEARCH INSTITUTE OF THE DESERT               T3   \n",
       "\n",
       "        AFFILIATION CLASSIFICATION      USE_CASE  ORGANIZATION  STATUS  \\\n",
       "0       Independent          C1000    ProductDev   Association       1   \n",
       "1       Independent          C2000  Preservation  Co-operative       1   \n",
       "2  CompanySponsored          C3000    ProductDev   Association       1   \n",
       "3  CompanySponsored          C2000  Preservation         Trust       1   \n",
       "4       Independent          C1000     Heathcare         Trust       1   \n",
       "\n",
       "      INCOME_AMT SPECIAL_CONSIDERATIONS  ASK_AMT  IS_SUCCESSFUL  \n",
       "0              0                      N     5000              1  \n",
       "1         1-9999                      N   108590              1  \n",
       "2              0                      N     5000              0  \n",
       "3    10000-24999                      N     6692              1  \n",
       "4  100000-499999                      N   142590              1  "
      ]
     },
     "execution_count": 1,
     "metadata": {},
     "output_type": "execute_result"
    }
   ],
   "source": [
    "# Import our dependencies\n",
    "from sklearn.model_selection import train_test_split\n",
    "from sklearn.preprocessing import StandardScaler\n",
    "import pandas as pd\n",
    "import tensorflow as tf\n",
    "\n",
    "#  Import and read the charity_data.csv.\n",
    "url = \"https://static.bc-edx.com/data/dl-1-2/m21/lms/starter/charity_data.csv\"\n",
    "local_path = \"charity_data.csv\"\n",
    "pd.read_csv(url).to_csv(local_path, index=False)\n",
    "\n",
    "# Read the CSV file using the local file path\n",
    "application_df = pd.read_csv(local_path)\n",
    "application_df.head()"
   ]
  },
  {
   "cell_type": "code",
   "execution_count": 2,
   "metadata": {
    "id": "fdAb-Hx9ZzkN"
   },
   "outputs": [],
   "source": [
    "# Drop the non-beneficial ID columns, 'EIN' and 'NAME'.\n",
    "application_df.drop(['EIN', 'NAME'], axis=1, inplace=True)"
   ]
  },
  {
   "cell_type": "code",
   "execution_count": 3,
   "metadata": {
    "colab": {
     "base_uri": "https://localhost:8080/"
    },
    "id": "K957R_x2ZzkO",
    "outputId": "5851f733-d1bf-4e93-bca3-d0c808cdc1b7"
   },
   "outputs": [
    {
     "data": {
      "text/plain": [
       "APPLICATION_TYPE            17\n",
       "AFFILIATION                  6\n",
       "CLASSIFICATION              71\n",
       "USE_CASE                     5\n",
       "ORGANIZATION                 4\n",
       "STATUS                       2\n",
       "INCOME_AMT                   9\n",
       "SPECIAL_CONSIDERATIONS       2\n",
       "ASK_AMT                   8747\n",
       "IS_SUCCESSFUL                2\n",
       "dtype: int64"
      ]
     },
     "execution_count": 3,
     "metadata": {},
     "output_type": "execute_result"
    }
   ],
   "source": [
    "# Determine the number of unique values in each column.\n",
    "application_df.nunique()"
   ]
  },
  {
   "cell_type": "code",
   "execution_count": 4,
   "metadata": {
    "colab": {
     "base_uri": "https://localhost:8080/"
    },
    "id": "iuaeSAFUZzkO",
    "outputId": "6318e328-987e-4819-b424-b77b845bd67e",
    "scrolled": true
   },
   "outputs": [
    {
     "name": "stdout",
     "output_type": "stream",
     "text": [
      "T3     27037\n",
      "T4      1542\n",
      "T6      1216\n",
      "T5      1173\n",
      "T19     1065\n",
      "T8       737\n",
      "T7       725\n",
      "T10      528\n",
      "T9       156\n",
      "T13       66\n",
      "T12       27\n",
      "T2        16\n",
      "T25        3\n",
      "T14        3\n",
      "T29        2\n",
      "T15        2\n",
      "T17        1\n",
      "Name: APPLICATION_TYPE, dtype: int64\n"
     ]
    }
   ],
   "source": [
    "# Look at APPLICATION_TYPE value counts for binning\n",
    "print(application_df['APPLICATION_TYPE'].value_counts())"
   ]
  },
  {
   "cell_type": "code",
   "execution_count": 5,
   "metadata": {
    "colab": {
     "base_uri": "https://localhost:8080/"
    },
    "id": "k1_OOHFVZzkO",
    "outputId": "4de954cb-f4ac-4524-be5a-229a141e13dc"
   },
   "outputs": [
    {
     "data": {
      "text/plain": [
       "T3       27037\n",
       "T4        1542\n",
       "T6        1216\n",
       "T5        1173\n",
       "T19       1065\n",
       "T8         737\n",
       "T7         725\n",
       "T10        528\n",
       "Other      276\n",
       "Name: APPLICATION_TYPE, dtype: int64"
      ]
     },
     "execution_count": 5,
     "metadata": {},
     "output_type": "execute_result"
    }
   ],
   "source": [
    "# Choose a cutoff value and create a list of application types to be replaced\n",
    "# use the variable name `application_types_to_replace`\n",
    "cutoff_value = 500\n",
    "application_types_to_replace = application_df['APPLICATION_TYPE'].value_counts()[application_df['APPLICATION_TYPE'].value_counts() < cutoff_value].index.tolist()\n",
    "\n",
    "# Replace in dataframe\n",
    "for app in application_types_to_replace:\n",
    "    application_df['APPLICATION_TYPE'] = application_df['APPLICATION_TYPE'].replace(app,\"Other\")\n",
    "\n",
    "# Check to make sure binning was successful\n",
    "application_df['APPLICATION_TYPE'].value_counts()"
   ]
  },
  {
   "cell_type": "code",
   "execution_count": 6,
   "metadata": {
    "colab": {
     "base_uri": "https://localhost:8080/"
    },
    "id": "EyYCWOwiZzkO",
    "outputId": "c406276c-8491-4edf-a182-bafa85d3b5dd"
   },
   "outputs": [
    {
     "name": "stdout",
     "output_type": "stream",
     "text": [
      "C1000    17326\n",
      "C2000     6074\n",
      "C1200     4837\n",
      "C3000     1918\n",
      "C2100     1883\n",
      "         ...  \n",
      "C4120        1\n",
      "C8210        1\n",
      "C2561        1\n",
      "C4500        1\n",
      "C2150        1\n",
      "Name: CLASSIFICATION, Length: 71, dtype: int64\n"
     ]
    }
   ],
   "source": [
    "# Look at CLASSIFICATION value counts for binning\n",
    "print(application_df['CLASSIFICATION'].value_counts())"
   ]
  },
  {
   "cell_type": "code",
   "execution_count": 7,
   "metadata": {
    "colab": {
     "base_uri": "https://localhost:8080/"
    },
    "id": "tYVPcjTTZzkP",
    "outputId": "e18da8da-f524-45a4-bb33-be757bd2f1c2",
    "scrolled": true
   },
   "outputs": [
    {
     "name": "stdout",
     "output_type": "stream",
     "text": [
      "C1000    17326\n",
      "C2000     6074\n",
      "C1200     4837\n",
      "C3000     1918\n",
      "C2100     1883\n",
      "C7000      777\n",
      "C1700      287\n",
      "C4000      194\n",
      "C5000      116\n",
      "C1270      114\n",
      "C2700      104\n",
      "C2800       95\n",
      "C7100       75\n",
      "C1300       58\n",
      "C1280       50\n",
      "C1230       36\n",
      "C1400       34\n",
      "C7200       32\n",
      "C2300       32\n",
      "C1240       30\n",
      "C8000       20\n",
      "C7120       18\n",
      "C1500       16\n",
      "C1800       15\n",
      "C6000       15\n",
      "C1250       14\n",
      "C8200       11\n",
      "C1238       10\n",
      "C1278       10\n",
      "C1235        9\n",
      "C1237        9\n",
      "C7210        7\n",
      "C2400        6\n",
      "C1720        6\n",
      "C4100        6\n",
      "C1257        5\n",
      "C1600        5\n",
      "C1260        3\n",
      "C2710        3\n",
      "C0           3\n",
      "C3200        2\n",
      "C1234        2\n",
      "C1246        2\n",
      "C1267        2\n",
      "C1256        2\n",
      "Name: CLASSIFICATION, dtype: int64\n"
     ]
    }
   ],
   "source": [
    "# You may find it helpful to look at CLASSIFICATION value counts >1\n",
    "print(application_df['CLASSIFICATION'].value_counts()[application_df['CLASSIFICATION'].value_counts() > 1])"
   ]
  },
  {
   "cell_type": "code",
   "execution_count": 8,
   "metadata": {
    "colab": {
     "base_uri": "https://localhost:8080/"
    },
    "id": "rAznjoc6ZzkP",
    "outputId": "a006b1fa-b063-406d-a1ba-856709963e17"
   },
   "outputs": [
    {
     "data": {
      "text/plain": [
       "C1000    17326\n",
       "C2000     6074\n",
       "C1200     4837\n",
       "Other     2261\n",
       "C3000     1918\n",
       "C2100     1883\n",
       "Name: CLASSIFICATION, dtype: int64"
      ]
     },
     "execution_count": 8,
     "metadata": {},
     "output_type": "execute_result"
    }
   ],
   "source": [
    "# Choose a cutoff value and create a list of classifications to be replaced\n",
    "# use the variable name `classifications_to_replace`\n",
    "cutoff_value = 1000\n",
    "classifications_to_replace = application_df['CLASSIFICATION'].value_counts()[application_df['CLASSIFICATION'].value_counts() < cutoff_value].index.tolist()\n",
    "\n",
    "\n",
    "# Replace in dataframe\n",
    "for cls in classifications_to_replace:\n",
    "    application_df['CLASSIFICATION'] = application_df['CLASSIFICATION'].replace(cls,\"Other\")\n",
    "\n",
    "# Check to make sure binning was successful\n",
    "application_df['CLASSIFICATION'].value_counts()"
   ]
  },
  {
   "cell_type": "code",
   "execution_count": 9,
   "metadata": {
    "colab": {
     "base_uri": "https://localhost:8080/",
     "height": 505
    },
    "id": "qM2E4oW7ZzkP",
    "outputId": "af6a8a27-6816-4407-fa39-38ef53e9c8f5"
   },
   "outputs": [
    {
     "data": {
      "text/html": [
       "<div>\n",
       "<style scoped>\n",
       "    .dataframe tbody tr th:only-of-type {\n",
       "        vertical-align: middle;\n",
       "    }\n",
       "\n",
       "    .dataframe tbody tr th {\n",
       "        vertical-align: top;\n",
       "    }\n",
       "\n",
       "    .dataframe thead th {\n",
       "        text-align: right;\n",
       "    }\n",
       "</style>\n",
       "<table border=\"1\" class=\"dataframe\">\n",
       "  <thead>\n",
       "    <tr style=\"text-align: right;\">\n",
       "      <th></th>\n",
       "      <th>STATUS</th>\n",
       "      <th>ASK_AMT</th>\n",
       "      <th>IS_SUCCESSFUL</th>\n",
       "      <th>APPLICATION_TYPE_Other</th>\n",
       "      <th>APPLICATION_TYPE_T10</th>\n",
       "      <th>APPLICATION_TYPE_T19</th>\n",
       "      <th>APPLICATION_TYPE_T3</th>\n",
       "      <th>APPLICATION_TYPE_T4</th>\n",
       "      <th>APPLICATION_TYPE_T5</th>\n",
       "      <th>APPLICATION_TYPE_T6</th>\n",
       "      <th>...</th>\n",
       "      <th>INCOME_AMT_1-9999</th>\n",
       "      <th>INCOME_AMT_10000-24999</th>\n",
       "      <th>INCOME_AMT_100000-499999</th>\n",
       "      <th>INCOME_AMT_10M-50M</th>\n",
       "      <th>INCOME_AMT_1M-5M</th>\n",
       "      <th>INCOME_AMT_25000-99999</th>\n",
       "      <th>INCOME_AMT_50M+</th>\n",
       "      <th>INCOME_AMT_5M-10M</th>\n",
       "      <th>SPECIAL_CONSIDERATIONS_N</th>\n",
       "      <th>SPECIAL_CONSIDERATIONS_Y</th>\n",
       "    </tr>\n",
       "  </thead>\n",
       "  <tbody>\n",
       "    <tr>\n",
       "      <th>0</th>\n",
       "      <td>1</td>\n",
       "      <td>5000</td>\n",
       "      <td>1</td>\n",
       "      <td>0</td>\n",
       "      <td>1</td>\n",
       "      <td>0</td>\n",
       "      <td>0</td>\n",
       "      <td>0</td>\n",
       "      <td>0</td>\n",
       "      <td>0</td>\n",
       "      <td>...</td>\n",
       "      <td>0</td>\n",
       "      <td>0</td>\n",
       "      <td>0</td>\n",
       "      <td>0</td>\n",
       "      <td>0</td>\n",
       "      <td>0</td>\n",
       "      <td>0</td>\n",
       "      <td>0</td>\n",
       "      <td>1</td>\n",
       "      <td>0</td>\n",
       "    </tr>\n",
       "    <tr>\n",
       "      <th>1</th>\n",
       "      <td>1</td>\n",
       "      <td>108590</td>\n",
       "      <td>1</td>\n",
       "      <td>0</td>\n",
       "      <td>0</td>\n",
       "      <td>0</td>\n",
       "      <td>1</td>\n",
       "      <td>0</td>\n",
       "      <td>0</td>\n",
       "      <td>0</td>\n",
       "      <td>...</td>\n",
       "      <td>1</td>\n",
       "      <td>0</td>\n",
       "      <td>0</td>\n",
       "      <td>0</td>\n",
       "      <td>0</td>\n",
       "      <td>0</td>\n",
       "      <td>0</td>\n",
       "      <td>0</td>\n",
       "      <td>1</td>\n",
       "      <td>0</td>\n",
       "    </tr>\n",
       "    <tr>\n",
       "      <th>2</th>\n",
       "      <td>1</td>\n",
       "      <td>5000</td>\n",
       "      <td>0</td>\n",
       "      <td>0</td>\n",
       "      <td>0</td>\n",
       "      <td>0</td>\n",
       "      <td>0</td>\n",
       "      <td>0</td>\n",
       "      <td>1</td>\n",
       "      <td>0</td>\n",
       "      <td>...</td>\n",
       "      <td>0</td>\n",
       "      <td>0</td>\n",
       "      <td>0</td>\n",
       "      <td>0</td>\n",
       "      <td>0</td>\n",
       "      <td>0</td>\n",
       "      <td>0</td>\n",
       "      <td>0</td>\n",
       "      <td>1</td>\n",
       "      <td>0</td>\n",
       "    </tr>\n",
       "    <tr>\n",
       "      <th>3</th>\n",
       "      <td>1</td>\n",
       "      <td>6692</td>\n",
       "      <td>1</td>\n",
       "      <td>0</td>\n",
       "      <td>0</td>\n",
       "      <td>0</td>\n",
       "      <td>1</td>\n",
       "      <td>0</td>\n",
       "      <td>0</td>\n",
       "      <td>0</td>\n",
       "      <td>...</td>\n",
       "      <td>0</td>\n",
       "      <td>1</td>\n",
       "      <td>0</td>\n",
       "      <td>0</td>\n",
       "      <td>0</td>\n",
       "      <td>0</td>\n",
       "      <td>0</td>\n",
       "      <td>0</td>\n",
       "      <td>1</td>\n",
       "      <td>0</td>\n",
       "    </tr>\n",
       "    <tr>\n",
       "      <th>4</th>\n",
       "      <td>1</td>\n",
       "      <td>142590</td>\n",
       "      <td>1</td>\n",
       "      <td>0</td>\n",
       "      <td>0</td>\n",
       "      <td>0</td>\n",
       "      <td>1</td>\n",
       "      <td>0</td>\n",
       "      <td>0</td>\n",
       "      <td>0</td>\n",
       "      <td>...</td>\n",
       "      <td>0</td>\n",
       "      <td>0</td>\n",
       "      <td>1</td>\n",
       "      <td>0</td>\n",
       "      <td>0</td>\n",
       "      <td>0</td>\n",
       "      <td>0</td>\n",
       "      <td>0</td>\n",
       "      <td>1</td>\n",
       "      <td>0</td>\n",
       "    </tr>\n",
       "    <tr>\n",
       "      <th>...</th>\n",
       "      <td>...</td>\n",
       "      <td>...</td>\n",
       "      <td>...</td>\n",
       "      <td>...</td>\n",
       "      <td>...</td>\n",
       "      <td>...</td>\n",
       "      <td>...</td>\n",
       "      <td>...</td>\n",
       "      <td>...</td>\n",
       "      <td>...</td>\n",
       "      <td>...</td>\n",
       "      <td>...</td>\n",
       "      <td>...</td>\n",
       "      <td>...</td>\n",
       "      <td>...</td>\n",
       "      <td>...</td>\n",
       "      <td>...</td>\n",
       "      <td>...</td>\n",
       "      <td>...</td>\n",
       "      <td>...</td>\n",
       "      <td>...</td>\n",
       "    </tr>\n",
       "    <tr>\n",
       "      <th>34294</th>\n",
       "      <td>1</td>\n",
       "      <td>5000</td>\n",
       "      <td>0</td>\n",
       "      <td>0</td>\n",
       "      <td>0</td>\n",
       "      <td>0</td>\n",
       "      <td>0</td>\n",
       "      <td>1</td>\n",
       "      <td>0</td>\n",
       "      <td>0</td>\n",
       "      <td>...</td>\n",
       "      <td>0</td>\n",
       "      <td>0</td>\n",
       "      <td>0</td>\n",
       "      <td>0</td>\n",
       "      <td>0</td>\n",
       "      <td>0</td>\n",
       "      <td>0</td>\n",
       "      <td>0</td>\n",
       "      <td>1</td>\n",
       "      <td>0</td>\n",
       "    </tr>\n",
       "    <tr>\n",
       "      <th>34295</th>\n",
       "      <td>1</td>\n",
       "      <td>5000</td>\n",
       "      <td>0</td>\n",
       "      <td>0</td>\n",
       "      <td>0</td>\n",
       "      <td>0</td>\n",
       "      <td>0</td>\n",
       "      <td>1</td>\n",
       "      <td>0</td>\n",
       "      <td>0</td>\n",
       "      <td>...</td>\n",
       "      <td>0</td>\n",
       "      <td>0</td>\n",
       "      <td>0</td>\n",
       "      <td>0</td>\n",
       "      <td>0</td>\n",
       "      <td>0</td>\n",
       "      <td>0</td>\n",
       "      <td>0</td>\n",
       "      <td>1</td>\n",
       "      <td>0</td>\n",
       "    </tr>\n",
       "    <tr>\n",
       "      <th>34296</th>\n",
       "      <td>1</td>\n",
       "      <td>5000</td>\n",
       "      <td>0</td>\n",
       "      <td>0</td>\n",
       "      <td>0</td>\n",
       "      <td>0</td>\n",
       "      <td>1</td>\n",
       "      <td>0</td>\n",
       "      <td>0</td>\n",
       "      <td>0</td>\n",
       "      <td>...</td>\n",
       "      <td>0</td>\n",
       "      <td>0</td>\n",
       "      <td>0</td>\n",
       "      <td>0</td>\n",
       "      <td>0</td>\n",
       "      <td>0</td>\n",
       "      <td>0</td>\n",
       "      <td>0</td>\n",
       "      <td>1</td>\n",
       "      <td>0</td>\n",
       "    </tr>\n",
       "    <tr>\n",
       "      <th>34297</th>\n",
       "      <td>1</td>\n",
       "      <td>5000</td>\n",
       "      <td>1</td>\n",
       "      <td>0</td>\n",
       "      <td>0</td>\n",
       "      <td>0</td>\n",
       "      <td>0</td>\n",
       "      <td>0</td>\n",
       "      <td>1</td>\n",
       "      <td>0</td>\n",
       "      <td>...</td>\n",
       "      <td>0</td>\n",
       "      <td>0</td>\n",
       "      <td>0</td>\n",
       "      <td>0</td>\n",
       "      <td>0</td>\n",
       "      <td>0</td>\n",
       "      <td>0</td>\n",
       "      <td>0</td>\n",
       "      <td>1</td>\n",
       "      <td>0</td>\n",
       "    </tr>\n",
       "    <tr>\n",
       "      <th>34298</th>\n",
       "      <td>1</td>\n",
       "      <td>36500179</td>\n",
       "      <td>0</td>\n",
       "      <td>0</td>\n",
       "      <td>0</td>\n",
       "      <td>0</td>\n",
       "      <td>1</td>\n",
       "      <td>0</td>\n",
       "      <td>0</td>\n",
       "      <td>0</td>\n",
       "      <td>...</td>\n",
       "      <td>0</td>\n",
       "      <td>0</td>\n",
       "      <td>0</td>\n",
       "      <td>0</td>\n",
       "      <td>1</td>\n",
       "      <td>0</td>\n",
       "      <td>0</td>\n",
       "      <td>0</td>\n",
       "      <td>1</td>\n",
       "      <td>0</td>\n",
       "    </tr>\n",
       "  </tbody>\n",
       "</table>\n",
       "<p>34299 rows × 44 columns</p>\n",
       "</div>"
      ],
      "text/plain": [
       "       STATUS   ASK_AMT  IS_SUCCESSFUL  APPLICATION_TYPE_Other  \\\n",
       "0           1      5000              1                       0   \n",
       "1           1    108590              1                       0   \n",
       "2           1      5000              0                       0   \n",
       "3           1      6692              1                       0   \n",
       "4           1    142590              1                       0   \n",
       "...       ...       ...            ...                     ...   \n",
       "34294       1      5000              0                       0   \n",
       "34295       1      5000              0                       0   \n",
       "34296       1      5000              0                       0   \n",
       "34297       1      5000              1                       0   \n",
       "34298       1  36500179              0                       0   \n",
       "\n",
       "       APPLICATION_TYPE_T10  APPLICATION_TYPE_T19  APPLICATION_TYPE_T3  \\\n",
       "0                         1                     0                    0   \n",
       "1                         0                     0                    1   \n",
       "2                         0                     0                    0   \n",
       "3                         0                     0                    1   \n",
       "4                         0                     0                    1   \n",
       "...                     ...                   ...                  ...   \n",
       "34294                     0                     0                    0   \n",
       "34295                     0                     0                    0   \n",
       "34296                     0                     0                    1   \n",
       "34297                     0                     0                    0   \n",
       "34298                     0                     0                    1   \n",
       "\n",
       "       APPLICATION_TYPE_T4  APPLICATION_TYPE_T5  APPLICATION_TYPE_T6  ...  \\\n",
       "0                        0                    0                    0  ...   \n",
       "1                        0                    0                    0  ...   \n",
       "2                        0                    1                    0  ...   \n",
       "3                        0                    0                    0  ...   \n",
       "4                        0                    0                    0  ...   \n",
       "...                    ...                  ...                  ...  ...   \n",
       "34294                    1                    0                    0  ...   \n",
       "34295                    1                    0                    0  ...   \n",
       "34296                    0                    0                    0  ...   \n",
       "34297                    0                    1                    0  ...   \n",
       "34298                    0                    0                    0  ...   \n",
       "\n",
       "       INCOME_AMT_1-9999  INCOME_AMT_10000-24999  INCOME_AMT_100000-499999  \\\n",
       "0                      0                       0                         0   \n",
       "1                      1                       0                         0   \n",
       "2                      0                       0                         0   \n",
       "3                      0                       1                         0   \n",
       "4                      0                       0                         1   \n",
       "...                  ...                     ...                       ...   \n",
       "34294                  0                       0                         0   \n",
       "34295                  0                       0                         0   \n",
       "34296                  0                       0                         0   \n",
       "34297                  0                       0                         0   \n",
       "34298                  0                       0                         0   \n",
       "\n",
       "       INCOME_AMT_10M-50M  INCOME_AMT_1M-5M  INCOME_AMT_25000-99999  \\\n",
       "0                       0                 0                       0   \n",
       "1                       0                 0                       0   \n",
       "2                       0                 0                       0   \n",
       "3                       0                 0                       0   \n",
       "4                       0                 0                       0   \n",
       "...                   ...               ...                     ...   \n",
       "34294                   0                 0                       0   \n",
       "34295                   0                 0                       0   \n",
       "34296                   0                 0                       0   \n",
       "34297                   0                 0                       0   \n",
       "34298                   0                 1                       0   \n",
       "\n",
       "       INCOME_AMT_50M+  INCOME_AMT_5M-10M  SPECIAL_CONSIDERATIONS_N  \\\n",
       "0                    0                  0                         1   \n",
       "1                    0                  0                         1   \n",
       "2                    0                  0                         1   \n",
       "3                    0                  0                         1   \n",
       "4                    0                  0                         1   \n",
       "...                ...                ...                       ...   \n",
       "34294                0                  0                         1   \n",
       "34295                0                  0                         1   \n",
       "34296                0                  0                         1   \n",
       "34297                0                  0                         1   \n",
       "34298                0                  0                         1   \n",
       "\n",
       "       SPECIAL_CONSIDERATIONS_Y  \n",
       "0                             0  \n",
       "1                             0  \n",
       "2                             0  \n",
       "3                             0  \n",
       "4                             0  \n",
       "...                         ...  \n",
       "34294                         0  \n",
       "34295                         0  \n",
       "34296                         0  \n",
       "34297                         0  \n",
       "34298                         0  \n",
       "\n",
       "[34299 rows x 44 columns]"
      ]
     },
     "execution_count": 9,
     "metadata": {},
     "output_type": "execute_result"
    }
   ],
   "source": [
    "# Convert categorical data to numeric with `pd.get_dummies`\n",
    "numeric_df = pd.get_dummies(application_df)\n",
    "numeric_df"
   ]
  },
  {
   "cell_type": "code",
   "execution_count": 10,
   "metadata": {
    "id": "guP1AMuiZzkQ"
   },
   "outputs": [],
   "source": [
    "# Split our preprocessed data into our features and target arrays\n",
    "X = numeric_df.drop([\"IS_SUCCESSFUL\"],axis=1)\n",
    "y = numeric_df[\"IS_SUCCESSFUL\"]\n",
    "\n",
    "\n",
    "# Split the preprocessed data into a training and testing dataset\n",
    "X_train, X_test, y_train, y_test = train_test_split(X, y, random_state=78)"
   ]
  },
  {
   "cell_type": "code",
   "execution_count": 11,
   "metadata": {
    "id": "65FDbO6dZzkQ"
   },
   "outputs": [],
   "source": [
    "# Create a StandardScaler instances\n",
    "scaler = StandardScaler()\n",
    "\n",
    "# Fit the StandardScaler\n",
    "X_scaler = scaler.fit(X_train)\n",
    "\n",
    "# Scale the data\n",
    "X_train_scaled = X_scaler.transform(X_train)\n",
    "X_test_scaled = X_scaler.transform(X_test)"
   ]
  },
  {
   "cell_type": "markdown",
   "metadata": {
    "id": "Q1Ft7OqyZzkQ"
   },
   "source": [
    "## Compile, Train and Evaluate the Model"
   ]
  },
  {
   "cell_type": "code",
   "execution_count": 12,
   "metadata": {
    "colab": {
     "base_uri": "https://localhost:8080/"
    },
    "id": "6YAr2UfsZzkQ",
    "outputId": "c31ca77e-7f56-42f1-9ec6-e3d3a5b14409"
   },
   "outputs": [
    {
     "name": "stdout",
     "output_type": "stream",
     "text": [
      "Model: \"sequential\"\n",
      "_________________________________________________________________\n",
      " Layer (type)                Output Shape              Param #   \n",
      "=================================================================\n",
      " dense (Dense)               (None, 9)                 396       \n",
      "                                                                 \n",
      " dense_1 (Dense)             (None, 18)                180       \n",
      "                                                                 \n",
      " dense_2 (Dense)             (None, 1)                 19        \n",
      "                                                                 \n",
      "=================================================================\n",
      "Total params: 595\n",
      "Trainable params: 595\n",
      "Non-trainable params: 0\n",
      "_________________________________________________________________\n"
     ]
    }
   ],
   "source": [
    "# Define the model - deep neural net, i.e., the number of input features and hidden nodes for each layer.\n",
    "input_features = len(X_train_scaled[0])\n",
    "hidden_layer1_nodes = 9\n",
    "hidden_layer2_nodes = 18\n",
    "\n",
    "nn = tf.keras.models.Sequential()\n",
    "\n",
    "# First hidden layer\n",
    "nn.add(tf.keras.layers.Dense(units=hidden_layer1_nodes, activation=\"relu\", input_dim=input_features))\n",
    "\n",
    "# Second hidden layer\n",
    "nn.add(tf.keras.layers.Dense(units=hidden_layer2_nodes, activation=\"relu\"))\n",
    "\n",
    "# Output layer\n",
    "nn.add(tf.keras.layers.Dense(units=1, activation=\"sigmoid\"))\n",
    "\n",
    "# Check the structure of the model\n",
    "nn.summary()"
   ]
  },
  {
   "cell_type": "code",
   "execution_count": 13,
   "metadata": {
    "id": "DHlQmDpTZzkR"
   },
   "outputs": [],
   "source": [
    "# Compile the model\n",
    "nn.compile(loss='binary_crossentropy', optimizer='adam', metrics=['accuracy'])"
   ]
  },
  {
   "cell_type": "code",
   "execution_count": 14,
   "metadata": {
    "colab": {
     "base_uri": "https://localhost:8080/"
    },
    "id": "yksXacTlZzkR",
    "outputId": "f8dbfeec-4d3f-49ae-92f7-620449078b45"
   },
   "outputs": [
    {
     "name": "stdout",
     "output_type": "stream",
     "text": [
      "Epoch 1/100\n",
      "804/804 [==============================] - 2s 899us/step - loss: 0.6094 - accuracy: 0.6957\n",
      "Epoch 2/100\n",
      "804/804 [==============================] - 1s 882us/step - loss: 0.5618 - accuracy: 0.7241\n",
      "Epoch 3/100\n",
      "804/804 [==============================] - 1s 863us/step - loss: 0.5576 - accuracy: 0.7274\n",
      "Epoch 4/100\n",
      "804/804 [==============================] - 1s 865us/step - loss: 0.5550 - accuracy: 0.7297\n",
      "Epoch 5/100\n",
      "804/804 [==============================] - 1s 869us/step - loss: 0.5534 - accuracy: 0.7297\n",
      "Epoch 6/100\n",
      "804/804 [==============================] - 1s 864us/step - loss: 0.5523 - accuracy: 0.7301\n",
      "Epoch 7/100\n",
      "804/804 [==============================] - 1s 870us/step - loss: 0.5518 - accuracy: 0.7299\n",
      "Epoch 8/100\n",
      "804/804 [==============================] - 1s 864us/step - loss: 0.5510 - accuracy: 0.7318\n",
      "Epoch 9/100\n",
      "804/804 [==============================] - 1s 880us/step - loss: 0.5504 - accuracy: 0.7315\n",
      "Epoch 10/100\n",
      "804/804 [==============================] - 1s 870us/step - loss: 0.5505 - accuracy: 0.7311\n",
      "Epoch 11/100\n",
      "804/804 [==============================] - 1s 866us/step - loss: 0.5495 - accuracy: 0.7312\n",
      "Epoch 12/100\n",
      "804/804 [==============================] - 1s 864us/step - loss: 0.5500 - accuracy: 0.7322\n",
      "Epoch 13/100\n",
      "804/804 [==============================] - 1s 863us/step - loss: 0.5490 - accuracy: 0.7327\n",
      "Epoch 14/100\n",
      "804/804 [==============================] - 1s 864us/step - loss: 0.5492 - accuracy: 0.7320\n",
      "Epoch 15/100\n",
      "804/804 [==============================] - 1s 862us/step - loss: 0.5488 - accuracy: 0.7328\n",
      "Epoch 16/100\n",
      "804/804 [==============================] - 1s 868us/step - loss: 0.5488 - accuracy: 0.7326\n",
      "Epoch 17/100\n",
      "804/804 [==============================] - 1s 864us/step - loss: 0.5487 - accuracy: 0.7325\n",
      "Epoch 18/100\n",
      "804/804 [==============================] - 1s 873us/step - loss: 0.5481 - accuracy: 0.7326\n",
      "Epoch 19/100\n",
      "804/804 [==============================] - 1s 866us/step - loss: 0.5478 - accuracy: 0.7334\n",
      "Epoch 20/100\n",
      "804/804 [==============================] - 1s 863us/step - loss: 0.5476 - accuracy: 0.7345\n",
      "Epoch 21/100\n",
      "804/804 [==============================] - 1s 864us/step - loss: 0.5475 - accuracy: 0.7333\n",
      "Epoch 22/100\n",
      "804/804 [==============================] - 1s 861us/step - loss: 0.5473 - accuracy: 0.7345\n",
      "Epoch 23/100\n",
      "804/804 [==============================] - 1s 863us/step - loss: 0.5474 - accuracy: 0.7340\n",
      "Epoch 24/100\n",
      "804/804 [==============================] - 1s 865us/step - loss: 0.5469 - accuracy: 0.7338\n",
      "Epoch 25/100\n",
      "804/804 [==============================] - 1s 870us/step - loss: 0.5471 - accuracy: 0.7337\n",
      "Epoch 26/100\n",
      "804/804 [==============================] - 1s 861us/step - loss: 0.5466 - accuracy: 0.7335\n",
      "Epoch 27/100\n",
      "804/804 [==============================] - 1s 869us/step - loss: 0.5464 - accuracy: 0.7326\n",
      "Epoch 28/100\n",
      "804/804 [==============================] - 1s 864us/step - loss: 0.5465 - accuracy: 0.7324\n",
      "Epoch 29/100\n",
      "804/804 [==============================] - 1s 864us/step - loss: 0.5462 - accuracy: 0.7345\n",
      "Epoch 30/100\n",
      "804/804 [==============================] - 1s 867us/step - loss: 0.5465 - accuracy: 0.7351\n",
      "Epoch 31/100\n",
      "804/804 [==============================] - 1s 866us/step - loss: 0.5459 - accuracy: 0.7345\n",
      "Epoch 32/100\n",
      "804/804 [==============================] - 1s 864us/step - loss: 0.5461 - accuracy: 0.7341\n",
      "Epoch 33/100\n",
      "804/804 [==============================] - 1s 866us/step - loss: 0.5454 - accuracy: 0.7350\n",
      "Epoch 34/100\n",
      "804/804 [==============================] - 1s 864us/step - loss: 0.5461 - accuracy: 0.7346\n",
      "Epoch 35/100\n",
      "804/804 [==============================] - 1s 860us/step - loss: 0.5456 - accuracy: 0.7353\n",
      "Epoch 36/100\n",
      "804/804 [==============================] - 1s 865us/step - loss: 0.5457 - accuracy: 0.7341\n",
      "Epoch 37/100\n",
      "804/804 [==============================] - 1s 873us/step - loss: 0.5457 - accuracy: 0.7346\n",
      "Epoch 38/100\n",
      "804/804 [==============================] - 1s 872us/step - loss: 0.5453 - accuracy: 0.7341\n",
      "Epoch 39/100\n",
      "804/804 [==============================] - 1s 863us/step - loss: 0.5450 - accuracy: 0.7344\n",
      "Epoch 40/100\n",
      "804/804 [==============================] - 1s 867us/step - loss: 0.5456 - accuracy: 0.7347\n",
      "Epoch 41/100\n",
      "804/804 [==============================] - 1s 867us/step - loss: 0.5457 - accuracy: 0.7351\n",
      "Epoch 42/100\n",
      "804/804 [==============================] - 1s 865us/step - loss: 0.5450 - accuracy: 0.7353\n",
      "Epoch 43/100\n",
      "804/804 [==============================] - 1s 863us/step - loss: 0.5452 - accuracy: 0.7356\n",
      "Epoch 44/100\n",
      "804/804 [==============================] - 1s 859us/step - loss: 0.5451 - accuracy: 0.7351\n",
      "Epoch 45/100\n",
      "804/804 [==============================] - 1s 867us/step - loss: 0.5452 - accuracy: 0.7349\n",
      "Epoch 46/100\n",
      "804/804 [==============================] - 1s 872us/step - loss: 0.5452 - accuracy: 0.7351\n",
      "Epoch 47/100\n",
      "804/804 [==============================] - 1s 864us/step - loss: 0.5448 - accuracy: 0.7352\n",
      "Epoch 48/100\n",
      "804/804 [==============================] - 1s 869us/step - loss: 0.5449 - accuracy: 0.7349\n",
      "Epoch 49/100\n",
      "804/804 [==============================] - 1s 864us/step - loss: 0.5449 - accuracy: 0.7345\n",
      "Epoch 50/100\n",
      "804/804 [==============================] - 1s 865us/step - loss: 0.5448 - accuracy: 0.7354\n",
      "Epoch 51/100\n",
      "804/804 [==============================] - 1s 869us/step - loss: 0.5448 - accuracy: 0.7348\n",
      "Epoch 52/100\n",
      "804/804 [==============================] - 1s 868us/step - loss: 0.5444 - accuracy: 0.7356\n",
      "Epoch 53/100\n",
      "804/804 [==============================] - 1s 872us/step - loss: 0.5445 - accuracy: 0.7357\n",
      "Epoch 54/100\n",
      "804/804 [==============================] - 1s 873us/step - loss: 0.5447 - accuracy: 0.7347\n",
      "Epoch 55/100\n",
      "804/804 [==============================] - 1s 879us/step - loss: 0.5445 - accuracy: 0.7356\n",
      "Epoch 56/100\n",
      "804/804 [==============================] - 1s 865us/step - loss: 0.5447 - accuracy: 0.7356\n",
      "Epoch 57/100\n",
      "804/804 [==============================] - 1s 872us/step - loss: 0.5446 - accuracy: 0.7349\n",
      "Epoch 58/100\n",
      "804/804 [==============================] - 1s 867us/step - loss: 0.5444 - accuracy: 0.7345\n",
      "Epoch 59/100\n",
      "804/804 [==============================] - 1s 866us/step - loss: 0.5446 - accuracy: 0.7360\n",
      "Epoch 60/100\n",
      "804/804 [==============================] - 1s 865us/step - loss: 0.5442 - accuracy: 0.7355\n",
      "Epoch 61/100\n",
      "804/804 [==============================] - 1s 869us/step - loss: 0.5444 - accuracy: 0.7357\n",
      "Epoch 62/100\n",
      "804/804 [==============================] - 1s 866us/step - loss: 0.5442 - accuracy: 0.7358\n",
      "Epoch 63/100\n",
      "804/804 [==============================] - 1s 925us/step - loss: 0.5441 - accuracy: 0.7352\n",
      "Epoch 64/100\n",
      "804/804 [==============================] - 1s 872us/step - loss: 0.5442 - accuracy: 0.7360\n",
      "Epoch 65/100\n",
      "804/804 [==============================] - 1s 877us/step - loss: 0.5443 - accuracy: 0.7356\n",
      "Epoch 66/100\n",
      "804/804 [==============================] - 1s 887us/step - loss: 0.5443 - accuracy: 0.7355\n",
      "Epoch 67/100\n",
      "804/804 [==============================] - 1s 867us/step - loss: 0.5440 - accuracy: 0.7358\n",
      "Epoch 68/100\n",
      "804/804 [==============================] - 1s 868us/step - loss: 0.5438 - accuracy: 0.7366\n",
      "Epoch 69/100\n",
      "804/804 [==============================] - 1s 865us/step - loss: 0.5443 - accuracy: 0.7359\n",
      "Epoch 70/100\n",
      "804/804 [==============================] - 1s 867us/step - loss: 0.5439 - accuracy: 0.7350\n",
      "Epoch 71/100\n",
      "804/804 [==============================] - 1s 865us/step - loss: 0.5439 - accuracy: 0.7367\n",
      "Epoch 72/100\n",
      "804/804 [==============================] - 1s 870us/step - loss: 0.5437 - accuracy: 0.7360\n",
      "Epoch 73/100\n",
      "804/804 [==============================] - 1s 867us/step - loss: 0.5440 - accuracy: 0.7355\n",
      "Epoch 74/100\n",
      "804/804 [==============================] - 1s 875us/step - loss: 0.5437 - accuracy: 0.7367\n",
      "Epoch 75/100\n",
      "804/804 [==============================] - 1s 866us/step - loss: 0.5439 - accuracy: 0.7360\n",
      "Epoch 76/100\n",
      "804/804 [==============================] - 1s 876us/step - loss: 0.5437 - accuracy: 0.7355\n",
      "Epoch 77/100\n",
      "804/804 [==============================] - 1s 867us/step - loss: 0.5437 - accuracy: 0.7361\n",
      "Epoch 78/100\n",
      "804/804 [==============================] - 1s 869us/step - loss: 0.5437 - accuracy: 0.7358\n",
      "Epoch 79/100\n"
     ]
    },
    {
     "name": "stdout",
     "output_type": "stream",
     "text": [
      "804/804 [==============================] - 1s 862us/step - loss: 0.5434 - accuracy: 0.7356\n",
      "Epoch 80/100\n",
      "804/804 [==============================] - 1s 864us/step - loss: 0.5435 - accuracy: 0.7364\n",
      "Epoch 81/100\n",
      "804/804 [==============================] - 1s 862us/step - loss: 0.5438 - accuracy: 0.7362\n",
      "Epoch 82/100\n",
      "804/804 [==============================] - 1s 866us/step - loss: 0.5434 - accuracy: 0.7363\n",
      "Epoch 83/100\n",
      "804/804 [==============================] - 1s 863us/step - loss: 0.5437 - accuracy: 0.7367\n",
      "Epoch 84/100\n",
      "804/804 [==============================] - 1s 871us/step - loss: 0.5434 - accuracy: 0.7371\n",
      "Epoch 85/100\n",
      "804/804 [==============================] - 1s 863us/step - loss: 0.5436 - accuracy: 0.7365\n",
      "Epoch 86/100\n",
      "804/804 [==============================] - 1s 863us/step - loss: 0.5434 - accuracy: 0.7365\n",
      "Epoch 87/100\n",
      "804/804 [==============================] - 1s 869us/step - loss: 0.5433 - accuracy: 0.7368\n",
      "Epoch 88/100\n",
      "804/804 [==============================] - 1s 863us/step - loss: 0.5432 - accuracy: 0.7366\n",
      "Epoch 89/100\n",
      "804/804 [==============================] - 1s 864us/step - loss: 0.5434 - accuracy: 0.7368\n",
      "Epoch 90/100\n",
      "804/804 [==============================] - 1s 865us/step - loss: 0.5430 - accuracy: 0.7371\n",
      "Epoch 91/100\n",
      "804/804 [==============================] - 1s 861us/step - loss: 0.5434 - accuracy: 0.7354\n",
      "Epoch 92/100\n",
      "804/804 [==============================] - 1s 871us/step - loss: 0.5434 - accuracy: 0.7366\n",
      "Epoch 93/100\n",
      "804/804 [==============================] - 1s 870us/step - loss: 0.5432 - accuracy: 0.7367\n",
      "Epoch 94/100\n",
      "804/804 [==============================] - 1s 939us/step - loss: 0.5432 - accuracy: 0.7365\n",
      "Epoch 95/100\n",
      "804/804 [==============================] - 1s 910us/step - loss: 0.5431 - accuracy: 0.7360\n",
      "Epoch 96/100\n",
      "804/804 [==============================] - 1s 876us/step - loss: 0.5430 - accuracy: 0.7361\n",
      "Epoch 97/100\n",
      "804/804 [==============================] - 1s 890us/step - loss: 0.5430 - accuracy: 0.7362\n",
      "Epoch 98/100\n",
      "804/804 [==============================] - 1s 892us/step - loss: 0.5432 - accuracy: 0.7364\n",
      "Epoch 99/100\n",
      "804/804 [==============================] - 1s 892us/step - loss: 0.5431 - accuracy: 0.7365\n",
      "Epoch 100/100\n",
      "804/804 [==============================] - 1s 895us/step - loss: 0.5430 - accuracy: 0.7362\n"
     ]
    }
   ],
   "source": [
    "# Train the model\n",
    "fit_model = nn.fit(X_train_scaled, y_train, epochs=100)"
   ]
  },
  {
   "cell_type": "code",
   "execution_count": 15,
   "metadata": {
    "colab": {
     "base_uri": "https://localhost:8080/"
    },
    "id": "iNuCbL6XZzkR",
    "outputId": "d616b4d0-9585-46aa-f02f-7db792901cc2"
   },
   "outputs": [
    {
     "name": "stdout",
     "output_type": "stream",
     "text": [
      "268/268 - 0s - loss: 0.5519 - accuracy: 0.7233 - 342ms/epoch - 1ms/step\n",
      "Loss: 0.5518940687179565, Accuracy: 0.7232652902603149\n"
     ]
    }
   ],
   "source": [
    "# Evaluate the model using the test data\n",
    "model_loss, model_accuracy = nn.evaluate(X_test_scaled,y_test,verbose=2)\n",
    "print(f\"Loss: {model_loss}, Accuracy: {model_accuracy}\")"
   ]
  },
  {
   "cell_type": "code",
   "execution_count": 16,
   "metadata": {
    "colab": {
     "base_uri": "https://localhost:8080/",
     "height": 447
    },
    "id": "6Y3mK43UZzkR",
    "outputId": "b7d0ffd9-bc3d-4ce4-8911-39b56dc3c038"
   },
   "outputs": [
    {
     "data": {
      "text/plain": [
       "<AxesSubplot:>"
      ]
     },
     "execution_count": 16,
     "metadata": {},
     "output_type": "execute_result"
    },
    {
     "data": {
      "image/png": "[encoded data removed]",
      "text/plain": [
       "<Figure size 432x288 with 1 Axes>"
      ]
     },
     "metadata": {
      "needs_background": "light"
     },
     "output_type": "display_data"
    }
   ],
   "source": [
    "# Export our model to HDF5 file\n",
    "history_df = pd.DataFrame(fit_model.history, index = range(1, len(fit_model.history['loss']) + 1))\n",
    "history_df.plot(y = 'accuracy')"
   ]
  },
  {
   "cell_type": "code",
   "execution_count": 17,
   "metadata": {
    "id": "JIkyBy8Ld2Ja"
   },
   "outputs": [],
   "source": [
    "nn.save('Models/AlphabetSoupCharity1.h5')"
   ]
  },
  {
   "cell_type": "markdown",
   "metadata": {
    "id": "U4g9eJiDe_gc"
   },
   "source": [
    "Model 2"
   ]
  },
  {
   "cell_type": "code",
   "execution_count": 18,
   "metadata": {
    "colab": {
     "base_uri": "https://localhost:8080/"
    },
    "id": "4gvlixHieoKn",
    "outputId": "71840fcc-d9d4-4b9e-849b-01a2272d571a"
   },
   "outputs": [
    {
     "name": "stdout",
     "output_type": "stream",
     "text": [
      "Model: \"sequential_1\"\n",
      "_________________________________________________________________\n",
      " Layer (type)                Output Shape              Param #   \n",
      "=================================================================\n",
      " dense_3 (Dense)             (None, 12)                528       \n",
      "                                                                 \n",
      " dense_4 (Dense)             (None, 24)                312       \n",
      "                                                                 \n",
      " dense_5 (Dense)             (None, 1)                 25        \n",
      "                                                                 \n",
      "=================================================================\n",
      "Total params: 865\n",
      "Trainable params: 865\n",
      "Non-trainable params: 0\n",
      "_________________________________________________________________\n"
     ]
    }
   ],
   "source": [
    "# Define second model - deep neural net, i.e., the number of input features and hidden nodes for each layer.\n",
    "input_features = len(X_train_scaled[0])\n",
    "hidden_layer1_nodes = 12\n",
    "hidden_layer2_nodes = 24\n",
    "hidden_layer3_nodes = 1\n",
    "\n",
    "nn2 = tf.keras.models.Sequential()\n",
    "\n",
    "# First hidden layer\n",
    "nn2.add(tf.keras.layers.Dense(units=hidden_layer1_nodes, activation=\"relu\", input_dim=input_features))\n",
    "\n",
    "# Second hidden layer\n",
    "nn2.add(tf.keras.layers.Dense(units=hidden_layer2_nodes, activation=\"relu\"))\n",
    "\n",
    "# Output layer\n",
    "nn2.add(tf.keras.layers.Dense(units=hidden_layer3_nodes, activation=\"sigmoid\"))\n",
    "\n",
    "# Check the structure of the model\n",
    "nn2.summary()"
   ]
  },
  {
   "cell_type": "code",
   "execution_count": 19,
   "metadata": {
    "id": "-yARiARDfQ5P"
   },
   "outputs": [],
   "source": [
    "nn2.compile(loss='binary_crossentropy', optimizer='adam', metrics=['accuracy'])"
   ]
  },
  {
   "cell_type": "code",
   "execution_count": null,
   "metadata": {
    "colab": {
     "base_uri": "https://localhost:8080/"
    },
    "id": "kmTqFIU3fyvg",
    "outputId": "4da06c9f-181f-4fc8-e4fc-098cf2667c50"
   },
   "outputs": [
    {
     "name": "stdout",
     "output_type": "stream",
     "text": [
      "Epoch 1/100\n",
      "804/804 [==============================] - 1s 907us/step - loss: 0.5920 - accuracy: 0.7110\n",
      "Epoch 2/100\n",
      "804/804 [==============================] - 1s 876us/step - loss: 0.5587 - accuracy: 0.7269\n",
      "Epoch 3/100\n",
      "804/804 [==============================] - 1s 900us/step - loss: 0.5542 - accuracy: 0.7277\n",
      "Epoch 4/100\n",
      "804/804 [==============================] - 1s 869us/step - loss: 0.5525 - accuracy: 0.7302\n",
      "Epoch 5/100\n",
      "804/804 [==============================] - 1s 881us/step - loss: 0.5510 - accuracy: 0.7308\n",
      "Epoch 6/100\n",
      "804/804 [==============================] - 1s 907us/step - loss: 0.5501 - accuracy: 0.7313\n",
      "Epoch 7/100\n",
      "804/804 [==============================] - 1s 1ms/step - loss: 0.5493 - accuracy: 0.7322\n",
      "Epoch 8/100\n",
      "804/804 [==============================] - 1s 1ms/step - loss: 0.5487 - accuracy: 0.7320\n",
      "Epoch 9/100\n",
      "804/804 [==============================] - 1s 1ms/step - loss: 0.5484 - accuracy: 0.7330\n",
      "Epoch 10/100\n",
      "804/804 [==============================] - 1s 904us/step - loss: 0.5478 - accuracy: 0.7332\n",
      "Epoch 11/100\n",
      "804/804 [==============================] - 1s 998us/step - loss: 0.5475 - accuracy: 0.7340\n",
      "Epoch 12/100\n",
      "804/804 [==============================] - 1s 1000us/step - loss: 0.5473 - accuracy: 0.7333\n",
      "Epoch 13/100\n",
      "804/804 [==============================] - 1s 999us/step - loss: 0.5470 - accuracy: 0.7345\n",
      "Epoch 14/100\n",
      "804/804 [==============================] - 1s 894us/step - loss: 0.5467 - accuracy: 0.7328\n",
      "Epoch 15/100\n",
      "804/804 [==============================] - 1s 864us/step - loss: 0.5465 - accuracy: 0.7337\n",
      "Epoch 16/100\n",
      "804/804 [==============================] - 1s 863us/step - loss: 0.5461 - accuracy: 0.7340\n",
      "Epoch 17/100\n",
      "804/804 [==============================] - 1s 868us/step - loss: 0.5465 - accuracy: 0.7339\n",
      "Epoch 18/100\n",
      "804/804 [==============================] - 1s 866us/step - loss: 0.5458 - accuracy: 0.7339\n",
      "Epoch 19/100\n",
      "804/804 [==============================] - 1s 866us/step - loss: 0.5461 - accuracy: 0.7338\n",
      "Epoch 20/100\n",
      "804/804 [==============================] - 1s 960us/step - loss: 0.5456 - accuracy: 0.7357\n",
      "Epoch 21/100\n",
      "804/804 [==============================] - 1s 914us/step - loss: 0.5454 - accuracy: 0.7343\n",
      "Epoch 22/100\n",
      "804/804 [==============================] - 1s 878us/step - loss: 0.5452 - accuracy: 0.7342\n",
      "Epoch 23/100\n",
      "804/804 [==============================] - 1s 872us/step - loss: 0.5453 - accuracy: 0.7349\n",
      "Epoch 24/100\n",
      "804/804 [==============================] - 1s 907us/step - loss: 0.5451 - accuracy: 0.7354\n",
      "Epoch 25/100\n",
      "804/804 [==============================] - 1s 875us/step - loss: 0.5444 - accuracy: 0.7357\n",
      "Epoch 26/100\n",
      "804/804 [==============================] - 1s 1ms/step - loss: 0.5449 - accuracy: 0.7350\n",
      "Epoch 27/100\n",
      "804/804 [==============================] - 1s 1ms/step - loss: 0.5447 - accuracy: 0.7345\n",
      "Epoch 28/100\n",
      "804/804 [==============================] - 1s 931us/step - loss: 0.5446 - accuracy: 0.7351\n",
      "Epoch 29/100\n",
      "804/804 [==============================] - 1s 1ms/step - loss: 0.5440 - accuracy: 0.7366\n",
      "Epoch 30/100\n",
      "804/804 [==============================] - 1s 895us/step - loss: 0.5443 - accuracy: 0.7364\n",
      "Epoch 31/100\n",
      "804/804 [==============================] - 1s 900us/step - loss: 0.5443 - accuracy: 0.7364\n",
      "Epoch 32/100\n",
      "294/804 [=========>....................] - ETA: 0s - loss: 0.5432 - accuracy: 0.7365"
     ]
    }
   ],
   "source": [
    "fit_model2 = nn2.fit(X_train_scaled, y_train, epochs=100)"
   ]
  },
  {
   "cell_type": "code",
   "execution_count": null,
   "metadata": {
    "colab": {
     "base_uri": "https://localhost:8080/"
    },
    "id": "6douJ2yuiT0R",
    "outputId": "1d117545-198a-4cb3-a65f-129fabe93f96"
   },
   "outputs": [],
   "source": [
    "model_loss2, model_accuracy2 = nn2.evaluate(X_test_scaled,y_test,verbose=2)\n",
    "print(f\"Loss: {model_loss2}, Accuracy: {model_accuracy2}\")"
   ]
  },
  {
   "cell_type": "code",
   "execution_count": null,
   "metadata": {
    "colab": {
     "base_uri": "https://localhost:8080/",
     "height": 450
    },
    "id": "E6Of2m4FifWT",
    "outputId": "7e620460-f363-40d3-8e5d-ee4518fe1adb"
   },
   "outputs": [],
   "source": [
    "# Export our model to HDF5 file\n",
    "history_df2 = pd.DataFrame(fit_model2.history, index = range(1, len(fit_model2.history['loss']) + 1))\n",
    "history_df2.plot(y = 'accuracy')"
   ]
  },
  {
   "cell_type": "code",
   "execution_count": null,
   "metadata": {
    "id": "wE9UjsyDis1r"
   },
   "outputs": [],
   "source": [
    "nn2.save('Models/AlphabetSoupCharity2.h5')"
   ]
  },
  {
   "cell_type": "code",
   "execution_count": null,
   "metadata": {
    "colab": {
     "base_uri": "https://localhost:8080/"
    },
    "id": "N_SH7I_Vf-up",
    "outputId": "5d762d9c-48c1-4460-c54f-770e18adbc45"
   },
   "outputs": [],
   "source": [
    "# Define third model - deep neural net, i.e., the number of input features and hidden nodes for each layer.\n",
    "input_features = len(X_train_scaled[0])\n",
    "hidden_layer1_nodes = 9\n",
    "hidden_layer2_nodes = 18\n",
    "hidden_layer3_nodes = 1\n",
    "\n",
    "nn3 = tf.keras.models.Sequential()\n",
    "\n",
    "# First hidden layer\n",
    "nn3.add(tf.keras.layers.Dense(units=hidden_layer1_nodes, activation=\"tanh\", input_dim=input_features))\n",
    "\n",
    "# Second hidden layer\n",
    "nn3.add(tf.keras.layers.Dense(units=hidden_layer2_nodes, activation=\"tanh\"))\n",
    "\n",
    "# Output layer\n",
    "nn3.add(tf.keras.layers.Dense(units=hidden_layer3_nodes, activation=\"sigmoid\"))\n",
    "\n",
    "# Check the structure of the model\n",
    "nn3.summary()"
   ]
  },
  {
   "cell_type": "code",
   "execution_count": null,
   "metadata": {
    "id": "yyorAus5hTjB"
   },
   "outputs": [],
   "source": [
    "nn3.compile(loss='binary_crossentropy', optimizer='adam', metrics=['accuracy'])"
   ]
  },
  {
   "cell_type": "code",
   "execution_count": null,
   "metadata": {
    "colab": {
     "base_uri": "https://localhost:8080/"
    },
    "id": "K4iKEO8ihgAo",
    "outputId": "4edd3f5b-e09d-4e04-e783-2b9518cdbced"
   },
   "outputs": [],
   "source": [
    "fit_model3 = nn3.fit(X_train_scaled, y_train, epochs=100)"
   ]
  },
  {
   "cell_type": "code",
   "execution_count": null,
   "metadata": {
    "colab": {
     "base_uri": "https://localhost:8080/"
    },
    "id": "D65woA5UkW5w",
    "outputId": "eadcb893-dcbd-4a13-eee9-88b58f2219b1"
   },
   "outputs": [],
   "source": [
    "model_loss3, model_accuracy3 = nn3.evaluate(X_test_scaled,y_test,verbose=2)\n",
    "print(f\"Loss: {model_loss3}, Accuracy: {model_accuracy3}\")"
   ]
  },
  {
   "cell_type": "code",
   "execution_count": null,
   "metadata": {
    "id": "JzastDN7l2_8"
   },
   "outputs": [],
   "source": [
    "nn2.save('Models/AlphabetSoupCharity3.h5')"
   ]
  }
 ],
 "metadata": {
  "colab": {
   "include_colab_link": true,
   "provenance": []
  },
  "kernelspec": {
   "display_name": "Python 3 (ipykernel)",
   "language": "python",
   "name": "python3"
  },
  "language_info": {
   "codemirror_mode": {
    "name": "ipython",
    "version": 3
   },
   "file_extension": ".py",
   "mimetype": "text/x-python",
   "name": "python",
   "nbconvert_exporter": "python",
   "pygments_lexer": "ipython3",
   "version": "3.9.12"
  },
  "vscode": {
   "interpreter": {
    "hash": "31f2aee4e71d21fbe5cf8b01ff0e069b9275f58929596ceb00d14d90e3e16cd6"
   }
  }
 },
 "nbformat": 4,
 "nbformat_minor": 1
}
